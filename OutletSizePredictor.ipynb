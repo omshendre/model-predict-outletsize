{
 "cells": [
  {
   "cell_type": "code",
   "execution_count": 3,
   "id": "d7c539b6",
   "metadata": {},
   "outputs": [],
   "source": [
    "import pandas as pd\n",
    "import numpy as np\n",
    "import matplotlib.pyplot as plt\n",
    "from sklearn.preprocessing import MinMaxScaler\n",
    "%matplotlib inline\n",
    "\n",
    "# METHODS\n",
    "from sklearn.neighbors import KNeighborsClassifier as KNN\n",
    "from sklearn import svm\n",
    "from sklearn.linear_model import LogisticRegression\n",
    "from sklearn.tree import DecisionTreeClassifier\n",
    "from sklearn.naive_bayes import GaussianNB\n",
    "\n",
    "# METRICS\n",
    "from sklearn.metrics import accuracy_score, precision_score, roc_auc_score, recall_score, f1_score\n",
    "import warnings\n",
    "warnings.filterwarnings(\"ignore\")"
   ]
  },
  {
   "cell_type": "code",
   "execution_count": 4,
   "id": "957da6dc",
   "metadata": {
    "scrolled": true
   },
   "outputs": [
    {
     "data": {
      "text/plain": [
       "(6113, 9)"
      ]
     },
     "execution_count": 4,
     "metadata": {},
     "output_type": "execute_result"
    }
   ],
   "source": [
    "data = pd.read_csv('final.csv')\n",
    "data.shape"
   ]
  },
  {
   "cell_type": "code",
   "execution_count": 5,
   "id": "68680016",
   "metadata": {},
   "outputs": [
    {
     "data": {
      "text/html": [
       "<div>\n",
       "<style scoped>\n",
       "    .dataframe tbody tr th:only-of-type {\n",
       "        vertical-align: middle;\n",
       "    }\n",
       "\n",
       "    .dataframe tbody tr th {\n",
       "        vertical-align: top;\n",
       "    }\n",
       "\n",
       "    .dataframe thead th {\n",
       "        text-align: right;\n",
       "    }\n",
       "</style>\n",
       "<table border=\"1\" class=\"dataframe\">\n",
       "  <thead>\n",
       "    <tr style=\"text-align: right;\">\n",
       "      <th></th>\n",
       "      <th>Unnamed: 0</th>\n",
       "      <th>Item_Weight</th>\n",
       "      <th>Item_Fat_Content</th>\n",
       "      <th>Item_Visibility</th>\n",
       "      <th>Item_MRP</th>\n",
       "      <th>Outlet_Size</th>\n",
       "      <th>Outlet_Location_Type</th>\n",
       "      <th>Outlet_Type</th>\n",
       "      <th>Item_Outlet_Sales</th>\n",
       "    </tr>\n",
       "  </thead>\n",
       "  <tbody>\n",
       "    <tr>\n",
       "      <th>0</th>\n",
       "      <td>0</td>\n",
       "      <td>9.300</td>\n",
       "      <td>0</td>\n",
       "      <td>0.016047</td>\n",
       "      <td>249.8092</td>\n",
       "      <td>1.0</td>\n",
       "      <td>0</td>\n",
       "      <td>0</td>\n",
       "      <td>3735.1380</td>\n",
       "    </tr>\n",
       "    <tr>\n",
       "      <th>1</th>\n",
       "      <td>1</td>\n",
       "      <td>5.920</td>\n",
       "      <td>1</td>\n",
       "      <td>0.019278</td>\n",
       "      <td>48.2692</td>\n",
       "      <td>1.0</td>\n",
       "      <td>2</td>\n",
       "      <td>3</td>\n",
       "      <td>443.4228</td>\n",
       "    </tr>\n",
       "    <tr>\n",
       "      <th>2</th>\n",
       "      <td>2</td>\n",
       "      <td>17.500</td>\n",
       "      <td>0</td>\n",
       "      <td>0.016760</td>\n",
       "      <td>141.6180</td>\n",
       "      <td>1.0</td>\n",
       "      <td>0</td>\n",
       "      <td>0</td>\n",
       "      <td>2097.2700</td>\n",
       "    </tr>\n",
       "    <tr>\n",
       "      <th>3</th>\n",
       "      <td>3</td>\n",
       "      <td>8.930</td>\n",
       "      <td>0</td>\n",
       "      <td>0.000000</td>\n",
       "      <td>53.8614</td>\n",
       "      <td>2.0</td>\n",
       "      <td>2</td>\n",
       "      <td>0</td>\n",
       "      <td>994.7052</td>\n",
       "    </tr>\n",
       "    <tr>\n",
       "      <th>4</th>\n",
       "      <td>4</td>\n",
       "      <td>10.395</td>\n",
       "      <td>1</td>\n",
       "      <td>0.000000</td>\n",
       "      <td>51.4008</td>\n",
       "      <td>1.0</td>\n",
       "      <td>2</td>\n",
       "      <td>3</td>\n",
       "      <td>556.6088</td>\n",
       "    </tr>\n",
       "  </tbody>\n",
       "</table>\n",
       "</div>"
      ],
      "text/plain": [
       "   Unnamed: 0  Item_Weight  Item_Fat_Content  Item_Visibility  Item_MRP  \\\n",
       "0           0        9.300                 0         0.016047  249.8092   \n",
       "1           1        5.920                 1         0.019278   48.2692   \n",
       "2           2       17.500                 0         0.016760  141.6180   \n",
       "3           3        8.930                 0         0.000000   53.8614   \n",
       "4           4       10.395                 1         0.000000   51.4008   \n",
       "\n",
       "   Outlet_Size  Outlet_Location_Type  Outlet_Type  Item_Outlet_Sales  \n",
       "0          1.0                     0            0          3735.1380  \n",
       "1          1.0                     2            3           443.4228  \n",
       "2          1.0                     0            0          2097.2700  \n",
       "3          2.0                     2            0           994.7052  \n",
       "4          1.0                     2            3           556.6088  "
      ]
     },
     "execution_count": 5,
     "metadata": {},
     "output_type": "execute_result"
    }
   ],
   "source": [
    "data.head()"
   ]
  },
  {
   "cell_type": "code",
   "execution_count": 6,
   "id": "2881bcde",
   "metadata": {},
   "outputs": [],
   "source": [
    "x = data.drop(['Outlet_Size','Unnamed: 0'], axis=1)\n",
    "y = data['Outlet_Size']"
   ]
  },
  {
   "cell_type": "code",
   "execution_count": 7,
   "id": "43eda2fe",
   "metadata": {},
   "outputs": [
    {
     "data": {
      "text/plain": [
       "0    1.0\n",
       "1    1.0\n",
       "2    1.0\n",
       "3    2.0\n",
       "4    1.0\n",
       "Name: Outlet_Size, dtype: float64"
      ]
     },
     "execution_count": 7,
     "metadata": {},
     "output_type": "execute_result"
    }
   ],
   "source": [
    "y.head()"
   ]
  },
  {
   "cell_type": "code",
   "execution_count": 8,
   "id": "8ccf7c71",
   "metadata": {
    "scrolled": false
   },
   "outputs": [
    {
     "data": {
      "text/html": [
       "<div>\n",
       "<style scoped>\n",
       "    .dataframe tbody tr th:only-of-type {\n",
       "        vertical-align: middle;\n",
       "    }\n",
       "\n",
       "    .dataframe tbody tr th {\n",
       "        vertical-align: top;\n",
       "    }\n",
       "\n",
       "    .dataframe thead th {\n",
       "        text-align: right;\n",
       "    }\n",
       "</style>\n",
       "<table border=\"1\" class=\"dataframe\">\n",
       "  <thead>\n",
       "    <tr style=\"text-align: right;\">\n",
       "      <th></th>\n",
       "      <th>Item_Weight</th>\n",
       "      <th>Item_Fat_Content</th>\n",
       "      <th>Item_Visibility</th>\n",
       "      <th>Item_MRP</th>\n",
       "      <th>Outlet_Location_Type</th>\n",
       "      <th>Outlet_Type</th>\n",
       "      <th>Item_Outlet_Sales</th>\n",
       "    </tr>\n",
       "  </thead>\n",
       "  <tbody>\n",
       "    <tr>\n",
       "      <th>0</th>\n",
       "      <td>9.300</td>\n",
       "      <td>0</td>\n",
       "      <td>0.016047</td>\n",
       "      <td>249.8092</td>\n",
       "      <td>0</td>\n",
       "      <td>0</td>\n",
       "      <td>3735.1380</td>\n",
       "    </tr>\n",
       "    <tr>\n",
       "      <th>1</th>\n",
       "      <td>5.920</td>\n",
       "      <td>1</td>\n",
       "      <td>0.019278</td>\n",
       "      <td>48.2692</td>\n",
       "      <td>2</td>\n",
       "      <td>3</td>\n",
       "      <td>443.4228</td>\n",
       "    </tr>\n",
       "    <tr>\n",
       "      <th>2</th>\n",
       "      <td>17.500</td>\n",
       "      <td>0</td>\n",
       "      <td>0.016760</td>\n",
       "      <td>141.6180</td>\n",
       "      <td>0</td>\n",
       "      <td>0</td>\n",
       "      <td>2097.2700</td>\n",
       "    </tr>\n",
       "    <tr>\n",
       "      <th>3</th>\n",
       "      <td>8.930</td>\n",
       "      <td>0</td>\n",
       "      <td>0.000000</td>\n",
       "      <td>53.8614</td>\n",
       "      <td>2</td>\n",
       "      <td>0</td>\n",
       "      <td>994.7052</td>\n",
       "    </tr>\n",
       "    <tr>\n",
       "      <th>4</th>\n",
       "      <td>10.395</td>\n",
       "      <td>1</td>\n",
       "      <td>0.000000</td>\n",
       "      <td>51.4008</td>\n",
       "      <td>2</td>\n",
       "      <td>3</td>\n",
       "      <td>556.6088</td>\n",
       "    </tr>\n",
       "  </tbody>\n",
       "</table>\n",
       "</div>"
      ],
      "text/plain": [
       "   Item_Weight  Item_Fat_Content  Item_Visibility  Item_MRP  \\\n",
       "0        9.300                 0         0.016047  249.8092   \n",
       "1        5.920                 1         0.019278   48.2692   \n",
       "2       17.500                 0         0.016760  141.6180   \n",
       "3        8.930                 0         0.000000   53.8614   \n",
       "4       10.395                 1         0.000000   51.4008   \n",
       "\n",
       "   Outlet_Location_Type  Outlet_Type  Item_Outlet_Sales  \n",
       "0                     0            0          3735.1380  \n",
       "1                     2            3           443.4228  \n",
       "2                     0            0          2097.2700  \n",
       "3                     2            0           994.7052  \n",
       "4                     2            3           556.6088  "
      ]
     },
     "execution_count": 8,
     "metadata": {},
     "output_type": "execute_result"
    }
   ],
   "source": [
    "x.head()"
   ]
  },
  {
   "cell_type": "code",
   "execution_count": 9,
   "id": "306916ea",
   "metadata": {},
   "outputs": [],
   "source": [
    "# SCALING DATA\n",
    "# scaler = MinMaxScaler()\n",
    "# x_scaled = scaler.fit_transform(x)"
   ]
  },
  {
   "cell_type": "code",
   "execution_count": 10,
   "id": "4e54e4fc",
   "metadata": {},
   "outputs": [],
   "source": [
    "# x = pd.DataFrame(x_scaled, columns = x.columns)"
   ]
  },
  {
   "cell_type": "code",
   "execution_count": 11,
   "id": "d451b927",
   "metadata": {},
   "outputs": [],
   "source": [
    "# SPLIT DATA\n",
    "from sklearn.model_selection import train_test_split\n",
    "train_x,test_x,train_y,test_y = train_test_split(x,y, random_state = 56, stratify=y)"
   ]
  },
  {
   "cell_type": "markdown",
   "id": "29829d11",
   "metadata": {},
   "source": [
    "# KNN -Method"
   ]
  },
  {
   "cell_type": "code",
   "execution_count": 12,
   "id": "fad55e1d",
   "metadata": {},
   "outputs": [
    {
     "name": "stdout",
     "output_type": "stream",
     "text": [
      "Training F1 Score: 0.41663168301214465\n",
      "Testing F1 Score: 0.37097450227034584\n"
     ]
    }
   ],
   "source": [
    "# Creating an instance of KNN\n",
    "clf = KNN(n_neighbors=20)\n",
    "\n",
    "# Fitting the model\n",
    "clf.fit(train_x, train_y)\n",
    "\n",
    "# Predicting over the Train Set and calculating F1\n",
    "train_predict = clf.predict(train_x)\n",
    "\n",
    "# predicted y \n",
    "test_predict = clf.predict(test_x)\n",
    "\n",
    "# F1 score\n",
    "f1_score_train = f1_score(train_y, train_predict, average='macro')\n",
    "print('Training F1 Score:', f1_score_train)\n",
    "\n",
    "f1_score_test = f1_score(test_y, test_predict, average='macro')\n",
    "print('Testing F1 Score:', f1_score_test)"
   ]
  },
  {
   "cell_type": "code",
   "execution_count": 13,
   "id": "946709f5",
   "metadata": {},
   "outputs": [
    {
     "name": "stdout",
     "output_type": "stream",
     "text": [
      "Training Accuracy Score: 0.5617364746945899\n",
      "Testing Accuracy Score: 0.5029431000654022\n"
     ]
    }
   ],
   "source": [
    "# Accuracy score\n",
    "acc_train = accuracy_score(train_y, train_predict)\n",
    "print('Training Accuracy Score:', acc_train)\n",
    "\n",
    "acc_test = accuracy_score(test_y, test_predict)\n",
    "print('Testing Accuracy Score:', acc_test)"
   ]
  },
  {
   "cell_type": "code",
   "execution_count": 14,
   "id": "af1736af",
   "metadata": {},
   "outputs": [
    {
     "name": "stdout",
     "output_type": "stream",
     "text": [
      "Training Precision Score: 0.5063965325938208\n",
      "Testing Precision Score: 0.4241413450164961\n"
     ]
    }
   ],
   "source": [
    "# Precision score\n",
    "pre_train = precision_score(train_y, train_predict, average='macro')\n",
    "print('Training Precision Score:', pre_train)\n",
    "\n",
    "pre_test = precision_score(test_y, test_predict, average='macro')\n",
    "print('Testing Precision Score:', pre_test)"
   ]
  },
  {
   "cell_type": "code",
   "execution_count": 15,
   "id": "6d925f60",
   "metadata": {},
   "outputs": [
    {
     "name": "stdout",
     "output_type": "stream",
     "text": [
      "Training ROC AUC Score: 0.7017587222113972\n",
      "Testing ROC AUC Score: 0.6079045523710994\n"
     ]
    }
   ],
   "source": [
    "# ROC AUC score for multiclass classification (One-vs-Rest)\n",
    "roc_auc_train = roc_auc_score(train_y, clf.predict_proba(train_x), multi_class='ovr')\n",
    "print('Training ROC AUC Score:', roc_auc_train)\n",
    "\n",
    "roc_auc_test = roc_auc_score(test_y, clf.predict_proba(test_x), multi_class='ovr')\n",
    "print('Testing ROC AUC Score:', roc_auc_test)"
   ]
  },
  {
   "cell_type": "code",
   "execution_count": 16,
   "id": "051cf10a",
   "metadata": {},
   "outputs": [
    {
     "name": "stdout",
     "output_type": "stream",
     "text": [
      "Training Sensitivity Score: 0.4423888731112653\n",
      "Testing Sensitivity Score: 0.39478508421938013\n"
     ]
    }
   ],
   "source": [
    "# recall_score\n",
    "recall_score_train = recall_score(train_y, train_predict,average='macro')\n",
    "print('Training Sensitivity Score:', recall_score_train)\n",
    "\n",
    "recall_score_test = recall_score(test_y, test_predict,average='macro')\n",
    "print('Testing Sensitivity Score:', recall_score_test)"
   ]
  },
  {
   "cell_type": "markdown",
   "id": "fcbb86aa",
   "metadata": {},
   "source": [
    "# SVM -Method\n"
   ]
  },
  {
   "cell_type": "code",
   "execution_count": 17,
   "id": "cff037a6",
   "metadata": {},
   "outputs": [
    {
     "name": "stdout",
     "output_type": "stream",
     "text": [
      "Training F1 Score: 0.35004724773088847\n",
      "Testing F1 Score: 0.35004724773088847\n"
     ]
    }
   ],
   "source": [
    "# Creating an instance of SVM\n",
    "svm_model = svm.SVC(probability=True)\n",
    "\n",
    "# Fitting the model\n",
    "svm_model.fit(train_x, train_y)\n",
    "\n",
    "# Predicting over the Train Set \n",
    "train_predict_svm = svm_model.predict(train_x)\n",
    "\n",
    "# predicted over the Test Set \n",
    "test_predict_svm = svm_model.predict(test_x)\n",
    "\n",
    "# F1 score\n",
    "f1_score_svm_train = f1_score(train_y, train_predict_svm, average='macro')\n",
    "print('Training F1 Score:', f1_score_svm_train)\n",
    "\n",
    "f1_score_svm_test = f1_score(test_y, test_predict_svm, average='macro')\n",
    "print('Testing F1 Score:', f1_score_svm_train)"
   ]
  },
  {
   "cell_type": "code",
   "execution_count": 18,
   "id": "738d7a32",
   "metadata": {},
   "outputs": [
    {
     "name": "stdout",
     "output_type": "stream",
     "text": [
      "Training Accuracy Score: 0.5259598603839442\n",
      "Testing Accuracy Score: 0.5304120340091563\n"
     ]
    }
   ],
   "source": [
    "# Accuracy score\n",
    "acc_svm_train = accuracy_score(train_y, train_predict_svm )\n",
    "print('Training Accuracy Score:', acc_svm_train)\n",
    "\n",
    "acc_svm_test = accuracy_score(test_y, test_predict_svm)\n",
    "print('Testing Accuracy Score:',acc_svm_test)"
   ]
  },
  {
   "cell_type": "code",
   "execution_count": 19,
   "id": "e2391616",
   "metadata": {},
   "outputs": [
    {
     "name": "stdout",
     "output_type": "stream",
     "text": [
      "Training Precision Score: 0.37321077950127624\n",
      "Testing Precision Score: 0.38803032985189123\n"
     ]
    }
   ],
   "source": [
    "# Precision score\n",
    "pre_svm_train = precision_score(train_y, train_predict_svm , average='macro')\n",
    "print('Training Precision Score:', pre_svm_train)\n",
    "\n",
    "pre_svm_test = precision_score(test_y, test_predict_svm, average='macro')\n",
    "print('Testing Precision Score:', pre_svm_test)"
   ]
  },
  {
   "cell_type": "code",
   "execution_count": 20,
   "id": "eb8ddda4",
   "metadata": {},
   "outputs": [
    {
     "name": "stdout",
     "output_type": "stream",
     "text": [
      "Training ROC AUC Score: 0.7495258304916378\n",
      "Testing ROC AUC Score: 0.7494775879615339\n"
     ]
    }
   ],
   "source": [
    "# ROC AUC score for multiclass classification (One-vs-Rest)\n",
    "roc_auc_svm_train = roc_auc_score(train_y, svm_model.predict_proba(train_x), multi_class='ovr')\n",
    "print('Training ROC AUC Score:', roc_auc_svm_train)\n",
    "\n",
    "roc_auc_svm_test = roc_auc_score(test_y, svm_model.predict_proba(test_x), multi_class='ovr')\n",
    "print('Testing ROC AUC Score:',roc_auc_svm_test)"
   ]
  },
  {
   "cell_type": "code",
   "execution_count": 21,
   "id": "763960eb",
   "metadata": {},
   "outputs": [
    {
     "name": "stdout",
     "output_type": "stream",
     "text": [
      "Training Sensitivity Score: 0.39836452772191633\n",
      "Testing Sensitivity Score: 0.40124561769265976\n"
     ]
    }
   ],
   "source": [
    "# recall_score\n",
    "recall_score_svm_train = recall_score(train_y, train_predict_svm,average='macro')\n",
    "print('Training Sensitivity Score:', recall_score_svm_train)\n",
    "\n",
    "recall_score_svm_test = recall_score(test_y, test_predict_svm,average='macro')\n",
    "print('Testing Sensitivity Score:', recall_score_svm_test)"
   ]
  },
  {
   "cell_type": "markdown",
   "id": "eea966f8",
   "metadata": {},
   "source": [
    "# Logistic Regression -Method\n"
   ]
  },
  {
   "cell_type": "code",
   "execution_count": 22,
   "id": "ef162bea",
   "metadata": {},
   "outputs": [
    {
     "name": "stdout",
     "output_type": "stream",
     "text": [
      "Training F1 Score: 0.5184197516638638\n",
      "Testing F1 Score: 0.5318462284436017\n"
     ]
    }
   ],
   "source": [
    "# Creating an instance of SVM\n",
    "logreg_model = LogisticRegression()\n",
    "\n",
    "# Fitting the model\n",
    "logreg_model.fit(train_x, train_y)\n",
    "\n",
    "# Predicting over the Train Set \n",
    "train_predict_logreg = logreg_model.predict(train_x)\n",
    "\n",
    "# predicted over the Test Set \n",
    "test_predict_logreg = logreg_model.predict(test_x)\n",
    "\n",
    "# F1 score\n",
    "f1_score_logreg_train = f1_score(train_y, train_predict_logreg, average='macro')\n",
    "print('Training F1 Score:', f1_score_logreg_train)\n",
    "\n",
    "f1_score_logreg_test = f1_score(test_y, test_predict_logreg, average='macro')\n",
    "print('Testing F1 Score:', f1_score_logreg_test)"
   ]
  },
  {
   "cell_type": "code",
   "execution_count": 23,
   "id": "abf5c8a4",
   "metadata": {},
   "outputs": [
    {
     "name": "stdout",
     "output_type": "stream",
     "text": [
      "Training Accuracy Score: 0.6544502617801047\n",
      "Testing Accuracy Score: 0.6651406147809026\n"
     ]
    }
   ],
   "source": [
    "# Accuracy score\n",
    "acc_logreg_train = accuracy_score(train_y, train_predict_logreg )\n",
    "print('Training Accuracy Score:',acc_logreg_train)\n",
    "\n",
    "acc_logreg_test = accuracy_score(test_y, test_predict_logreg)\n",
    "print('Testing Accuracy Score:',acc_logreg_test)"
   ]
  },
  {
   "cell_type": "code",
   "execution_count": 24,
   "id": "60f0de78",
   "metadata": {},
   "outputs": [
    {
     "name": "stdout",
     "output_type": "stream",
     "text": [
      "Training Precision Score: 0.616955381920555\n",
      "Testing Precision Score: 0.616955381920555\n"
     ]
    }
   ],
   "source": [
    "# Precision score\n",
    "pre_logreg_train = precision_score(train_y, train_predict_logreg , average='macro')\n",
    "print('Training Precision Score:', pre_logreg_train)\n",
    "\n",
    "pre_logreg_test = precision_score(test_y, test_predict_logreg, average='macro')\n",
    "print('Testing Precision Score:', pre_logreg_train)"
   ]
  },
  {
   "cell_type": "code",
   "execution_count": 25,
   "id": "3d89d6a8",
   "metadata": {},
   "outputs": [
    {
     "name": "stdout",
     "output_type": "stream",
     "text": [
      "Training ROC AUC Score: 0.7612927125318789\n",
      "Testing ROC AUC Score: 0.7908587984884639\n"
     ]
    }
   ],
   "source": [
    "# ROC AUC score for multiclass classification (One-vs-Rest)\n",
    "roc_auc_logreg_train = roc_auc_score(train_y, logreg_model.predict_proba(train_x), multi_class='ovr')\n",
    "print('Training ROC AUC Score:', roc_auc_logreg_train)\n",
    "\n",
    "roc_auc_logreg_test = roc_auc_score(test_y, logreg_model.predict_proba(test_x), multi_class='ovr')\n",
    "print('Testing ROC AUC Score:',roc_auc_logreg_test)"
   ]
  },
  {
   "cell_type": "code",
   "execution_count": 26,
   "id": "003f74eb",
   "metadata": {},
   "outputs": [
    {
     "name": "stdout",
     "output_type": "stream",
     "text": [
      "Training Sensitivity Score: 0.5359350786870841\n",
      "Testing Sensitivity Score: 0.5465932427995964\n"
     ]
    }
   ],
   "source": [
    "# recall_score\n",
    "recall_score_logreg_train = recall_score(train_y, train_predict_logreg,average='macro')\n",
    "print('Training Sensitivity Score:', recall_score_logreg_train)\n",
    "\n",
    "recall_score_logreg_test = recall_score(test_y, test_predict_logreg,average='macro')\n",
    "print('Testing Sensitivity Score:', recall_score_logreg_test)"
   ]
  },
  {
   "cell_type": "markdown",
   "id": "5e929bb5",
   "metadata": {},
   "source": [
    "# Decision Tree Classifier"
   ]
  },
  {
   "cell_type": "code",
   "execution_count": 27,
   "id": "7de86486",
   "metadata": {},
   "outputs": [
    {
     "name": "stdout",
     "output_type": "stream",
     "text": [
      "Training F1 Score: 1.0\n",
      "Testing F1 Score: 0.8712873904027796\n"
     ]
    }
   ],
   "source": [
    "# Creating an instance of SVM\n",
    "dt_model = DecisionTreeClassifier()\n",
    "\n",
    "# Fitting the model\n",
    "dt_model.fit(train_x, train_y)\n",
    "\n",
    "# Predicting over the Train Set \n",
    "train_predict_dt = dt_model.predict(train_x)\n",
    "\n",
    "# predicted over the Test Set \n",
    "test_predict_dt = dt_model.predict(test_x)\n",
    "\n",
    "# F1 score\n",
    "f1_score_dt_train = f1_score(train_y, train_predict_dt, average='macro')\n",
    "print('Training F1 Score:', f1_score_dt_train)\n",
    "\n",
    "f1_score_dt_test = f1_score(test_y, test_predict_dt, average='macro')\n",
    "print('Testing F1 Score:', f1_score_dt_test)"
   ]
  },
  {
   "cell_type": "code",
   "execution_count": 28,
   "id": "3ddd3918",
   "metadata": {},
   "outputs": [
    {
     "name": "stdout",
     "output_type": "stream",
     "text": [
      "Training Accuracy Score: 1.0\n",
      "Testing Accuracy Score: 0.8378024852844996\n"
     ]
    }
   ],
   "source": [
    "# Accuracy score\n",
    "acc_dt_train = accuracy_score(train_y, train_predict_dt )\n",
    "print('Training Accuracy Score:',acc_dt_train)\n",
    "\n",
    "acc_dt_test = accuracy_score(test_y, test_predict_dt)\n",
    "print('Testing Accuracy Score:',acc_dt_test)"
   ]
  },
  {
   "cell_type": "code",
   "execution_count": 29,
   "id": "14301519",
   "metadata": {},
   "outputs": [
    {
     "name": "stdout",
     "output_type": "stream",
     "text": [
      "Training Precision Score: 1.0\n",
      "Testing Precision Score: 1.0\n"
     ]
    }
   ],
   "source": [
    "# Precision score\n",
    "pre_dt_train = precision_score(train_y, train_predict_dt , average='macro')\n",
    "print('Training Precision Score:', pre_dt_train)\n",
    "\n",
    "pre_dt_test = precision_score(test_y, test_predict_dt, average='macro')\n",
    "print('Testing Precision Score:', pre_dt_train)"
   ]
  },
  {
   "cell_type": "code",
   "execution_count": 30,
   "id": "316acc5b",
   "metadata": {},
   "outputs": [
    {
     "name": "stdout",
     "output_type": "stream",
     "text": [
      "Training ROC AUC Score: 0.7612927125318789\n",
      "Testing ROC AUC Score: 0.8881151466925493\n"
     ]
    }
   ],
   "source": [
    "# ROC AUC score for multiclass classification (One-vs-Rest)\n",
    "roc_auc_dt_train = roc_auc_score(train_y, dt_model.predict_proba(train_x), multi_class='ovr')\n",
    "print('Training ROC AUC Score:', roc_auc_logreg_train)\n",
    "\n",
    "roc_auc_dt_test = roc_auc_score(test_y, dt_model.predict_proba(test_x), multi_class='ovr')\n",
    "print('Testing ROC AUC Score:',roc_auc_dt_test)"
   ]
  },
  {
   "cell_type": "code",
   "execution_count": 31,
   "id": "a95822ae",
   "metadata": {},
   "outputs": [
    {
     "name": "stdout",
     "output_type": "stream",
     "text": [
      "Training Sensitivity Score: 1.0\n",
      "Testing Sensitivity Score: 0.8708180866181169\n"
     ]
    }
   ],
   "source": [
    "# recall_score\n",
    "recall_score_dt_train = recall_score(train_y, train_predict_dt,average='macro')\n",
    "print('Training Sensitivity Score:', recall_score_dt_train)\n",
    "\n",
    "recall_score_dt_test = recall_score(test_y, test_predict_dt,average='macro')\n",
    "print('Testing Sensitivity Score:', recall_score_dt_test)"
   ]
  },
  {
   "cell_type": "markdown",
   "id": "6c39095e",
   "metadata": {},
   "source": [
    "# Naive_Bayes -Method\n"
   ]
  },
  {
   "cell_type": "code",
   "execution_count": 32,
   "id": "509369fb",
   "metadata": {},
   "outputs": [
    {
     "name": "stdout",
     "output_type": "stream",
     "text": [
      "Training F1 Score: 0.8734763899328241\n",
      "Testing F1 Score: 0.8793521000652648\n"
     ]
    }
   ],
   "source": [
    "# Creating an instance of SVM\n",
    "nb_model = GaussianNB()\n",
    "\n",
    "# Fitting the model\n",
    "nb_model.fit(train_x, train_y)\n",
    "\n",
    "# Predicting over the Train Set \n",
    "train_predict_nb = nb_model.predict(train_x)\n",
    "\n",
    "# predicted over the Test Set \n",
    "test_predict_nb = nb_model.predict(test_x)\n",
    "\n",
    "# F1 score\n",
    "f1_score_nb_train = f1_score(train_y, train_predict_nb, average='macro')\n",
    "print('Training F1 Score:', f1_score_nb_train)\n",
    "\n",
    "f1_score_nb_test = f1_score(test_y, test_predict_nb, average='macro')\n",
    "print('Testing F1 Score:', f1_score_nb_test)"
   ]
  },
  {
   "cell_type": "code",
   "execution_count": 33,
   "id": "ad57bff7",
   "metadata": {},
   "outputs": [
    {
     "name": "stdout",
     "output_type": "stream",
     "text": [
      "Training Accuracy Score: 0.8407504363001745\n",
      "Testing Accuracy Score: 0.8476128188358404\n"
     ]
    }
   ],
   "source": [
    "# Accuracy score\n",
    "acc_nb_train = accuracy_score(train_y, train_predict_nb )\n",
    "print('Training Accuracy Score:',acc_nb_train)\n",
    "\n",
    "acc_nb_test = accuracy_score(test_y, test_predict_nb)\n",
    "print('Testing Accuracy Score:',acc_nb_test)"
   ]
  },
  {
   "cell_type": "code",
   "execution_count": 34,
   "id": "0841279d",
   "metadata": {},
   "outputs": [
    {
     "name": "stdout",
     "output_type": "stream",
     "text": [
      "Training Precision Score: 0.8998600187636866\n",
      "Testing Precision Score: 0.8998600187636866\n"
     ]
    }
   ],
   "source": [
    "# Precision score\n",
    "pre_nb_train = precision_score(train_y, train_predict_nb , average='macro')\n",
    "print('Training Precision Score:', pre_nb_train)\n",
    "\n",
    "pre_nb_test = precision_score(test_y, test_predict_nb, average='macro')\n",
    "print('Testing Precision Score:', pre_nb_train)"
   ]
  },
  {
   "cell_type": "code",
   "execution_count": 35,
   "id": "afa186a0",
   "metadata": {},
   "outputs": [
    {
     "name": "stdout",
     "output_type": "stream",
     "text": [
      "Training ROC AUC Score: 0.8703483234371543\n",
      "Testing ROC AUC Score: 0.8822133878105213\n"
     ]
    }
   ],
   "source": [
    "# ROC AUC score for multiclass classification (One-vs-Rest)\n",
    "roc_auc_nb_train = roc_auc_score(train_y, nb_model.predict_proba(train_x), multi_class='ovr')\n",
    "print('Training ROC AUC Score:', roc_auc_nb_train)\n",
    "\n",
    "roc_auc_nb_test = roc_auc_score(test_y, nb_model.predict_proba(test_x), multi_class='ovr')\n",
    "print('Testing ROC AUC Score:',roc_auc_nb_test)"
   ]
  },
  {
   "cell_type": "code",
   "execution_count": 36,
   "id": "9d01c49b",
   "metadata": {
    "scrolled": true
   },
   "outputs": [
    {
     "name": "stdout",
     "output_type": "stream",
     "text": [
      "Training Sensitivity Score: 0.883256353933522\n",
      "Testing Sensitivity Score: 0.8878297064722757\n"
     ]
    }
   ],
   "source": [
    "# recall_score\n",
    "recall_score_nb_train = recall_score(train_y, train_predict_nb,average='macro')\n",
    "print('Training Sensitivity Score:', recall_score_nb_train)\n",
    "\n",
    "recall_score_nb_test = recall_score(test_y, test_predict_nb,average='macro')\n",
    "print('Testing Sensitivity Score:', recall_score_nb_test)"
   ]
  },
  {
   "cell_type": "code",
   "execution_count": 37,
   "id": "d73938e8",
   "metadata": {},
   "outputs": [],
   "source": [
    "df = {\n",
    "    \"Method\":['KNN','SVM','Logistic Regression','Decision Tree Classifier','Naive_Bayes'],\n",
    "    \"F1 Score\":[],\n",
    "    \"Accuracy\":[],\n",
    "    \"Precision\":[],\n",
    "    \"ROC AUC\":[],\n",
    "    \"Sensitivity\":[]\n",
    "}\n",
    "df[\"F1 Score\"]=[f1_score_test,f1_score_svm_test,f1_score_logreg_test,f1_score_dt_test,f1_score_nb_test]\n",
    "\n",
    "df[\"Accuracy\"]=[acc_test,acc_svm_test,acc_logreg_test,acc_dt_test,acc_nb_test]\n",
    "\n",
    "df[\"Precision\"]=[pre_svm_test,pre_svm_test,pre_logreg_test,pre_dt_test,pre_nb_test]\n",
    "\n",
    "df[\"ROC AUC\"]=[roc_auc_test,roc_auc_svm_test,roc_auc_logreg_test,roc_auc_dt_test,roc_auc_nb_test]\n",
    "\n",
    "df[\"Sensitivity\"]=[recall_score_test,recall_score_svm_test,recall_score_logreg_test,recall_score_dt_test,\n",
    "                   recall_score_nb_test]\n",
    "\n",
    "dataframe = pd.DataFrame(df)"
   ]
  },
  {
   "cell_type": "code",
   "execution_count": 38,
   "id": "9ddbcf6c",
   "metadata": {},
   "outputs": [],
   "source": [
    "X = np.array([x.iloc[3]])"
   ]
  },
  {
   "cell_type": "code",
   "execution_count": 39,
   "id": "c24c2011",
   "metadata": {},
   "outputs": [],
   "source": [
    "# import pickle\n",
    "import joblib\n",
    "\n",
    "d1 = {\"model\":nb_model,\n",
    "      \"Item_Weight\":x[\"Item_Weight\"],\n",
    "      \"Item_Fat_Content\":x[\"Item_Fat_Content\"],\n",
    "      \"Item_Visibility\":x[\"Item_Visibility\"],\n",
    "      \"Item_MRP\":x[\"Item_MRP\"],\n",
    "      \"Outlet_Location_Type\":x[\"Outlet_Location_Type\"],\n",
    "      \"Outlet_Type\":x[\"Outlet_Type\"],\n",
    "      \"Item_Outlet_Sales\":x[\"Item_Outlet_Sales\"]\n",
    "     }\n"
   ]
  },
  {
   "cell_type": "code",
   "execution_count": 40,
   "id": "016b85a9",
   "metadata": {},
   "outputs": [
    {
     "data": {
      "text/plain": [
       "['saved_model.pkl']"
      ]
     },
     "execution_count": 40,
     "metadata": {},
     "output_type": "execute_result"
    }
   ],
   "source": [
    "# with open('saved_model.pkl', 'wb') as file:\n",
    "#     pickle.dump(d1, file)\n",
    "joblib.dump(d1, 'saved_model.pkl')"
   ]
  },
  {
   "cell_type": "code",
   "execution_count": 41,
   "id": "f9f5f845",
   "metadata": {},
   "outputs": [],
   "source": [
    "# with open('saved_model.pkl', 'rb') as file:\n",
    "#     model = pickle.load(file)\n",
    "model = joblib.load('saved_model.pkl')"
   ]
  },
  {
   "cell_type": "code",
   "execution_count": 42,
   "id": "1e88c8bd",
   "metadata": {},
   "outputs": [],
   "source": [
    "reg_load = model['model']\n",
    "\n",
    "d3 = {\n",
    "        'Item_Weight':8.930,\n",
    "        'Item_Fat_Content': 0,\n",
    "        'Item_Visibility': 0.000000,\n",
    "        'Item_MRP': 53.8614,\n",
    "        'Outlet_Location_Type': 2,\n",
    "        'Outlet_Type': 0,\n",
    "        'Item_Outlet_Sales': 994.7052,\n",
    "}\n",
    "df = pd.DataFrame([d3])"
   ]
  },
  {
   "cell_type": "code",
   "execution_count": 43,
   "id": "6d3ddb81",
   "metadata": {},
   "outputs": [
    {
     "data": {
      "text/plain": [
       "array([2.])"
      ]
     },
     "execution_count": 43,
     "metadata": {},
     "output_type": "execute_result"
    }
   ],
   "source": [
    "prediction = reg_load.predict(df)\n",
    "prediction"
   ]
  },
  {
   "cell_type": "code",
   "execution_count": 44,
   "id": "aab3d3d3",
   "metadata": {},
   "outputs": [
    {
     "name": "stdout",
     "output_type": "stream",
     "text": [
      "3.11.4 | packaged by conda-forge | (main, Jun 10 2023, 18:08:41) [Clang 15.0.7 ]\n"
     ]
    }
   ],
   "source": [
    "import sys\n",
    "print(sys.version)\n"
   ]
  }
 ],
 "metadata": {
  "kernelspec": {
   "display_name": "Python 3 (ipykernel)",
   "language": "python",
   "name": "python3"
  },
  "language_info": {
   "codemirror_mode": {
    "name": "ipython",
    "version": 3
   },
   "file_extension": ".py",
   "mimetype": "text/x-python",
   "name": "python",
   "nbconvert_exporter": "python",
   "pygments_lexer": "ipython3",
   "version": "3.11.4"
  }
 },
 "nbformat": 4,
 "nbformat_minor": 5
}
